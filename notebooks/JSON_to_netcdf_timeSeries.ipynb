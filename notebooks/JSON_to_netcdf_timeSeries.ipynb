{
 "cells": [
  {
   "cell_type": "markdown",
   "metadata": {},
   "source": [
    "# Convert OOI Parsed JSON to NetCDF file\n",
    "using CF-1.6, Discrete Sampling Geometry (DSG) conventions, **`featureType=timeSeries`**"
   ]
  },
  {
   "cell_type": "code",
   "execution_count": 1,
   "metadata": {
    "ExecuteTime": {
     "end_time": "2017-01-31T09:36:11.348639",
     "start_time": "2017-01-31T09:36:08.704308"
    },
    "collapsed": true
   },
   "outputs": [],
   "source": [
    "%matplotlib inline\n",
    "import json\n",
    "import pandas as pd\n",
    "import numpy as np\n",
    "\n",
    "from pyaxiom.netcdf.sensors import TimeSeries"
   ]
  },
  {
   "cell_type": "code",
   "execution_count": 2,
   "metadata": {
    "ExecuteTime": {
     "end_time": "2017-01-31T09:36:11.562150",
     "start_time": "2017-01-31T09:36:11.355656"
    },
    "collapsed": false
   },
   "outputs": [
    {
     "data": {
      "text/html": [
       "<div>\n",
       "<table border=\"1\" class=\"dataframe\">\n",
       "  <thead>\n",
       "    <tr style=\"text-align: right;\">\n",
       "      <th></th>\n",
       "      <th>leak_detect_voltage2</th>\n",
       "      <th>dsl_power_state</th>\n",
       "      <th>ground_fault_9522_fw</th>\n",
       "      <th>heartbeat_delta</th>\n",
       "      <th>temperature1</th>\n",
       "      <th>fwwf_power_flag</th>\n",
       "      <th>iridium_current</th>\n",
       "      <th>iridium_error_flag</th>\n",
       "      <th>fwwf_power_state</th>\n",
       "      <th>ground_fault_enable</th>\n",
       "      <th>...</th>\n",
       "      <th>backup_battery_current</th>\n",
       "      <th>heartbeat_threshold</th>\n",
       "      <th>heartbeat_enable</th>\n",
       "      <th>sbd_message_pending</th>\n",
       "      <th>leak_detect_enable</th>\n",
       "      <th>wake_time_count</th>\n",
       "      <th>ground_fault_gps</th>\n",
       "      <th>temperature2</th>\n",
       "      <th>main_voltage</th>\n",
       "      <th>depth</th>\n",
       "    </tr>\n",
       "  </thead>\n",
       "  <tbody>\n",
       "    <tr>\n",
       "      <th>0</th>\n",
       "      <td>1240</td>\n",
       "      <td>1</td>\n",
       "      <td>-13.7</td>\n",
       "      <td>125</td>\n",
       "      <td>15.5</td>\n",
       "      <td>0</td>\n",
       "      <td>0.0</td>\n",
       "      <td>0</td>\n",
       "      <td>0</td>\n",
       "      <td>15</td>\n",
       "      <td>...</td>\n",
       "      <td>0.0</td>\n",
       "      <td>2</td>\n",
       "      <td>1</td>\n",
       "      <td>0.0</td>\n",
       "      <td>3</td>\n",
       "      <td>0.0</td>\n",
       "      <td>-15.3</td>\n",
       "      <td>13.6</td>\n",
       "      <td>22.9</td>\n",
       "      <td>0.0</td>\n",
       "    </tr>\n",
       "    <tr>\n",
       "      <th>1</th>\n",
       "      <td>1238</td>\n",
       "      <td>1</td>\n",
       "      <td>-13.7</td>\n",
       "      <td>125</td>\n",
       "      <td>15.8</td>\n",
       "      <td>0</td>\n",
       "      <td>0.0</td>\n",
       "      <td>0</td>\n",
       "      <td>0</td>\n",
       "      <td>15</td>\n",
       "      <td>...</td>\n",
       "      <td>0.0</td>\n",
       "      <td>2</td>\n",
       "      <td>1</td>\n",
       "      <td>0.0</td>\n",
       "      <td>3</td>\n",
       "      <td>0.0</td>\n",
       "      <td>-15.3</td>\n",
       "      <td>13.6</td>\n",
       "      <td>20.6</td>\n",
       "      <td>0.0</td>\n",
       "    </tr>\n",
       "    <tr>\n",
       "      <th>2</th>\n",
       "      <td>1240</td>\n",
       "      <td>1</td>\n",
       "      <td>-13.7</td>\n",
       "      <td>125</td>\n",
       "      <td>16.2</td>\n",
       "      <td>0</td>\n",
       "      <td>0.0</td>\n",
       "      <td>0</td>\n",
       "      <td>0</td>\n",
       "      <td>15</td>\n",
       "      <td>...</td>\n",
       "      <td>0.0</td>\n",
       "      <td>2</td>\n",
       "      <td>1</td>\n",
       "      <td>0.0</td>\n",
       "      <td>3</td>\n",
       "      <td>0.0</td>\n",
       "      <td>-15.3</td>\n",
       "      <td>14.3</td>\n",
       "      <td>20.9</td>\n",
       "      <td>0.0</td>\n",
       "    </tr>\n",
       "    <tr>\n",
       "      <th>3</th>\n",
       "      <td>1226</td>\n",
       "      <td>1</td>\n",
       "      <td>-13.7</td>\n",
       "      <td>125</td>\n",
       "      <td>16.7</td>\n",
       "      <td>0</td>\n",
       "      <td>0.0</td>\n",
       "      <td>0</td>\n",
       "      <td>0</td>\n",
       "      <td>15</td>\n",
       "      <td>...</td>\n",
       "      <td>0.0</td>\n",
       "      <td>2</td>\n",
       "      <td>1</td>\n",
       "      <td>0.0</td>\n",
       "      <td>3</td>\n",
       "      <td>0.0</td>\n",
       "      <td>-15.3</td>\n",
       "      <td>14.4</td>\n",
       "      <td>21.0</td>\n",
       "      <td>0.0</td>\n",
       "    </tr>\n",
       "    <tr>\n",
       "      <th>4</th>\n",
       "      <td>1221</td>\n",
       "      <td>1</td>\n",
       "      <td>402.4</td>\n",
       "      <td>125</td>\n",
       "      <td>17.1</td>\n",
       "      <td>0</td>\n",
       "      <td>0.0</td>\n",
       "      <td>0</td>\n",
       "      <td>3</td>\n",
       "      <td>15</td>\n",
       "      <td>...</td>\n",
       "      <td>0.0</td>\n",
       "      <td>2</td>\n",
       "      <td>1</td>\n",
       "      <td>0.0</td>\n",
       "      <td>3</td>\n",
       "      <td>0.0</td>\n",
       "      <td>-88.3</td>\n",
       "      <td>15.0</td>\n",
       "      <td>17.8</td>\n",
       "      <td>0.0</td>\n",
       "    </tr>\n",
       "  </tbody>\n",
       "</table>\n",
       "<p>5 rows × 41 columns</p>\n",
       "</div>"
      ],
      "text/plain": [
       "   leak_detect_voltage2  dsl_power_state  ground_fault_9522_fw  \\\n",
       "0                  1240                1                 -13.7   \n",
       "1                  1238                1                 -13.7   \n",
       "2                  1240                1                 -13.7   \n",
       "3                  1226                1                 -13.7   \n",
       "4                  1221                1                 402.4   \n",
       "\n",
       "   heartbeat_delta  temperature1  fwwf_power_flag  iridium_current  \\\n",
       "0              125          15.5                0              0.0   \n",
       "1              125          15.8                0              0.0   \n",
       "2              125          16.2                0              0.0   \n",
       "3              125          16.7                0              0.0   \n",
       "4              125          17.1                0              0.0   \n",
       "\n",
       "   iridium_error_flag  fwwf_power_state  ground_fault_enable  ...    \\\n",
       "0                   0                 0                   15  ...     \n",
       "1                   0                 0                   15  ...     \n",
       "2                   0                 0                   15  ...     \n",
       "3                   0                 0                   15  ...     \n",
       "4                   0                 3                   15  ...     \n",
       "\n",
       "   backup_battery_current  heartbeat_threshold  heartbeat_enable  \\\n",
       "0                     0.0                    2                 1   \n",
       "1                     0.0                    2                 1   \n",
       "2                     0.0                    2                 1   \n",
       "3                     0.0                    2                 1   \n",
       "4                     0.0                    2                 1   \n",
       "\n",
       "   sbd_message_pending  leak_detect_enable wake_time_count  ground_fault_gps  \\\n",
       "0                  0.0                   3             0.0             -15.3   \n",
       "1                  0.0                   3             0.0             -15.3   \n",
       "2                  0.0                   3             0.0             -15.3   \n",
       "3                  0.0                   3             0.0             -15.3   \n",
       "4                  0.0                   3             0.0             -88.3   \n",
       "\n",
       "   temperature2  main_voltage  depth  \n",
       "0          13.6          22.9    0.0  \n",
       "1          13.6          20.6    0.0  \n",
       "2          14.3          20.9    0.0  \n",
       "3          14.4          21.0    0.0  \n",
       "4          15.0          17.8    0.0  \n",
       "\n",
       "[5 rows x 41 columns]"
      ]
     },
     "execution_count": 2,
     "metadata": {},
     "output_type": "execute_result"
    }
   ],
   "source": [
    "infile = './20170130.superv.json'\n",
    "outfile = './20170130.superv.nc'\n",
    "with open(infile) as jf:\n",
    "    js = json.load(jf)\n",
    "    df = pd.DataFrame({})\n",
    "    for k, v in js.items():\n",
    "        df[k] = v\n",
    "    df['time'] = pd.to_datetime(df.time, unit='s')\n",
    "    df['depth'] = 0.\n",
    "df.head()"
   ]
  },
  {
   "cell_type": "code",
   "execution_count": 3,
   "metadata": {
    "ExecuteTime": {
     "end_time": "2017-01-31T09:36:12.027264",
     "start_time": "2017-01-31T09:36:11.570169"
    },
    "collapsed": false
   },
   "outputs": [
    {
     "data": {
      "image/png": "[encoded data removed]",
      "text/plain": [
       "<matplotlib.figure.Figure at 0x8a8ca20>"
      ]
     },
     "metadata": {},
     "output_type": "display_data"
    }
   ],
   "source": [
    "df['temperature2'].plot();"
   ]
  },
  {
   "cell_type": "code",
   "execution_count": 4,
   "metadata": {
    "ExecuteTime": {
     "end_time": "2017-01-31T09:36:12.415193",
     "start_time": "2017-01-31T09:36:12.035283"
    },
    "collapsed": false
   },
   "outputs": [
    {
     "data": {
      "image/png": "[encoded data removed]",
      "text/plain": [
       "<matplotlib.figure.Figure at 0x8b9bef0>"
      ]
     },
     "metadata": {},
     "output_type": "display_data"
    }
   ],
   "source": [
    "df.index = df['time']\n",
    "df['temperature2'].plot();"
   ]
  },
  {
   "cell_type": "markdown",
   "metadata": {},
   "source": [
    "### Define the NetCDF global attributes"
   ]
  },
  {
   "cell_type": "code",
   "execution_count": 5,
   "metadata": {
    "ExecuteTime": {
     "end_time": "2017-01-31T09:36:12.431231",
     "start_time": "2017-01-31T09:36:12.420205"
    },
    "collapsed": true
   },
   "outputs": [],
   "source": [
    "global_attributes = {\n",
    "    'institution':'Oregon State University', \n",
    "    'title':'OOI CE01ISSM Supervisor Data',\n",
    "    'summary':'OOI Supervisor data from Coastal Endurance Inshore Surface Mooring',\n",
    "    'creator_name':'Chris Wingard',\n",
    "    'creator_email':'cwingard@coas.oregonstate.edu',\n",
    "    'creator_url':'http://ceoas.oregonstate.edu/ooi'\n",
    "}"
   ]
  },
  {
   "cell_type": "markdown",
   "metadata": {},
   "source": [
    "### Create initial file"
   ]
  },
  {
   "cell_type": "code",
   "execution_count": 6,
   "metadata": {
    "ExecuteTime": {
     "end_time": "2017-01-31T09:36:12.488368",
     "start_time": "2017-01-31T09:36:12.438248"
    },
    "collapsed": false
   },
   "outputs": [],
   "source": [
    "ts = TimeSeries(\n",
    "    output_directory='.',\n",
    "    latitude=44.65833,\n",
    "    longitude=-124.0953,\n",
    "    station_name='ce01issm',\n",
    "    global_attributes=global_attributes,\n",
    "    times=df.time.values.astype(np.int64) // 10**9,\n",
    "    verticals=df.depth.values,\n",
    "    output_filename=outfile,\n",
    "    vertical_positive='down'\n",
    ")"
   ]
  },
  {
   "cell_type": "markdown",
   "metadata": {},
   "source": [
    "### Add data variables"
   ]
  },
  {
   "cell_type": "code",
   "execution_count": 7,
   "metadata": {
    "ExecuteTime": {
     "end_time": "2017-01-31T09:36:12.663788",
     "start_time": "2017-01-31T09:36:12.494382"
    },
    "collapsed": false
   },
   "outputs": [
    {
     "name": "stdout",
     "output_type": "stream",
     "text": [
      "Added leak_detect_voltage2\n",
      "Added dsl_power_state\n",
      "Added ground_fault_9522_fw\n",
      "Added heartbeat_delta\n",
      "Added temperature1\n",
      "Added fwwf_power_flag\n",
      "Added iridium_current\n",
      "Added iridium_error_flag\n",
      "Added fwwf_power_state\n",
      "Added ground_fault_enable\n",
      "Added pressure\n",
      "Added iridium_voltage\n",
      "Added leak_detect_voltage1\n",
      "Added ground_fault_main\n",
      "Added pps_source\n",
      "Skipping 'time' (already in file)\n",
      "Added fwwf_voltage\n",
      "Added esw_power_state\n",
      "Added error_flags\n",
      "Added wake_code\n",
      "Added humidity\n",
      "Added sbd_power_state\n",
      "Added fwwf_current\n",
      "Skipping axis 'cpm_date_time_string' (already in file)\n",
      "Added iridium_power_state\n",
      "Added main_current\n",
      "Added wake_power_count\n",
      "Added dcl_power_state\n",
      "Added gps_power_state\n",
      "Added ground_fault_sbd\n",
      "Added backup_battery_voltage\n",
      "Added backup_battery_current\n",
      "Added heartbeat_threshold\n",
      "Added heartbeat_enable\n",
      "Added sbd_message_pending\n",
      "Added leak_detect_enable\n",
      "Added wake_time_count\n",
      "Added ground_fault_gps\n",
      "Added temperature2\n",
      "Added main_voltage\n",
      "Skipping axis 'depth' (already in file)\n"
     ]
    }
   ],
   "source": [
    "for c in df.columns:\n",
    "    if c in ts._nc.variables:\n",
    "        print(\"Skipping '{}' (already in file)\".format(c))\n",
    "        continue\n",
    "    if c in ['time', 'lat', 'lon', 'depth', 'cpm_date_time_string']:\n",
    "        print(\"Skipping axis '{}' (already in file)\".format(c))\n",
    "        continue\n",
    "    ts.add_variable(c, df[c].values)\n",
    "    print(\"Added {}\".format(c))\n",
    "        "
   ]
  },
  {
   "cell_type": "code",
   "execution_count": 8,
   "metadata": {
    "ExecuteTime": {
     "end_time": "2017-01-31T09:36:12.676819",
     "start_time": "2017-01-31T09:36:12.668800"
    },
    "collapsed": false
   },
   "outputs": [],
   "source": [
    "### Open the NetCDF file and inspect it"
   ]
  },
  {
   "cell_type": "code",
   "execution_count": 9,
   "metadata": {
    "ExecuteTime": {
     "end_time": "2017-01-31T09:36:12.793097",
     "start_time": "2017-01-31T09:36:12.682833"
    },
    "collapsed": false
   },
   "outputs": [],
   "source": [
    "import netCDF4\n",
    "nc = netCDF4.Dataset(outfile)"
   ]
  },
  {
   "cell_type": "code",
   "execution_count": 10,
   "metadata": {
    "ExecuteTime": {
     "end_time": "2017-01-31T09:36:12.817155",
     "start_time": "2017-01-31T09:36:12.801117"
    },
    "collapsed": false
   },
   "outputs": [
    {
     "data": {
      "text/plain": [
       "<class 'netCDF4._netCDF4.Dataset'>\n",
       "root group (NETCDF4 data model, file format HDF5):\n",
       "    creator_url: http://ceoas.oregonstate.edu/ooi\n",
       "    summary: OOI Supervisor data from Coastal Endurance Inshore Surface Mooring\n",
       "    creator_name: Chris Wingard\n",
       "    institution: Oregon State University\n",
       "    title: OOI CE01ISSM Supervisor Data\n",
       "    creator_email: cwingard@coas.oregonstate.edu\n",
       "    Conventions: CF-1.6,ACDD-1.3\n",
       "    date_created: 2017-01-31T14:36:00Z\n",
       "    date_modified: 2017-01-31T14:36:00Z\n",
       "    date_issued: 2017-01-31T14:36:00Z\n",
       "    date_metadata_modified: 2017-01-31T14:36:00Z\n",
       "    cdm_data_type: Station\n",
       "    history: 2017-01-31T14:36:00Z - pyaxiom - File created using pyaxiom\n",
       "    geospatial_lat_min: 44.65833\n",
       "    geospatial_lat_max: 44.65833\n",
       "    geospatial_lat_resolution: 0\n",
       "    geospatial_lat_units: degrees_north\n",
       "    geospatial_lon_min: -124.0953\n",
       "    geospatial_lon_max: -124.0953\n",
       "    geospatial_lon_resolution: 0\n",
       "    geospatial_lon_units: degrees_east\n",
       "    geospatial_bounds: POINT(-124.0953 44.65833)\n",
       "    geospatial_bounds_crs: 4326\n",
       "    time_coverage_start: 2017-01-30T00:26:49\n",
       "    time_coverage_end: 2017-01-30T12:31:52\n",
       "    time_coverage_duration: PT43503S\n",
       "    time_coverage_resolution: PT60S\n",
       "    geospatial_vertical_units: meters\n",
       "    geospatial_vertical_positive: down\n",
       "    featureType: timeSeries\n",
       "    geospatial_vertical_resolution: 0\n",
       "    geospatial_vertical_min: 0.0\n",
       "    geospatial_vertical_max: 0.0\n",
       "    ncei_template_version: NCEI_NetCDF_TimeSeries_Orthogonal_Template_v2.0\n",
       "    dimensions(sizes): feature_type_instance(8), time(186)\n",
       "    variables(dimensions): |S1 \u001b[4mfeature_type_instance\u001b[0m(feature_type_instance), float64 \u001b[4mlatitude\u001b[0m(), float64 \u001b[4mlongitude\u001b[0m(), int32 \u001b[4mcrs\u001b[0m(), int32 \u001b[4mplatform\u001b[0m(), int32 \u001b[4mtime\u001b[0m(time), float64 \u001b[4mz\u001b[0m(), int32 \u001b[4mleak_detect_voltage2\u001b[0m(time), int32 \u001b[4mdsl_power_state\u001b[0m(time), float64 \u001b[4mground_fault_9522_fw\u001b[0m(time), int32 \u001b[4mheartbeat_delta\u001b[0m(time), float64 \u001b[4mtemperature1\u001b[0m(time), int32 \u001b[4mfwwf_power_flag\u001b[0m(time), float64 \u001b[4miridium_current\u001b[0m(time), int32 \u001b[4miridium_error_flag\u001b[0m(time), int32 \u001b[4mfwwf_power_state\u001b[0m(time), int32 \u001b[4mground_fault_enable\u001b[0m(time), float64 \u001b[4mpressure\u001b[0m(time), float64 \u001b[4miridium_voltage\u001b[0m(time), int32 \u001b[4mleak_detect_voltage1\u001b[0m(time), float64 \u001b[4mground_fault_main\u001b[0m(time), float64 \u001b[4mpps_source\u001b[0m(time), float64 \u001b[4mfwwf_voltage\u001b[0m(time), int32 \u001b[4mesw_power_state\u001b[0m(time), int32 \u001b[4merror_flags\u001b[0m(time), int32 \u001b[4mwake_code\u001b[0m(time), float64 \u001b[4mhumidity\u001b[0m(time), float64 \u001b[4msbd_power_state\u001b[0m(time), float64 \u001b[4mfwwf_current\u001b[0m(time), int32 \u001b[4miridium_power_state\u001b[0m(time), float64 \u001b[4mmain_current\u001b[0m(time), int32 \u001b[4mwake_power_count\u001b[0m(time), int32 \u001b[4mdcl_power_state\u001b[0m(time), float64 \u001b[4mgps_power_state\u001b[0m(time), float64 \u001b[4mground_fault_sbd\u001b[0m(time), float64 \u001b[4mbackup_battery_voltage\u001b[0m(time), float64 \u001b[4mbackup_battery_current\u001b[0m(time), int32 \u001b[4mheartbeat_threshold\u001b[0m(time), int32 \u001b[4mheartbeat_enable\u001b[0m(time), float64 \u001b[4msbd_message_pending\u001b[0m(time), int32 \u001b[4mleak_detect_enable\u001b[0m(time), float64 \u001b[4mwake_time_count\u001b[0m(time), float64 \u001b[4mground_fault_gps\u001b[0m(time), float64 \u001b[4mtemperature2\u001b[0m(time), float64 \u001b[4mmain_voltage\u001b[0m(time)\n",
       "    groups: "
      ]
     },
     "execution_count": 10,
     "metadata": {},
     "output_type": "execute_result"
    }
   ],
   "source": [
    "nc"
   ]
  },
  {
   "cell_type": "code",
   "execution_count": 11,
   "metadata": {
    "ExecuteTime": {
     "end_time": "2017-01-31T09:36:12.840210",
     "start_time": "2017-01-31T09:36:12.827179"
    },
    "collapsed": false
   },
   "outputs": [],
   "source": [
    "nc.close()"
   ]
  },
  {
   "cell_type": "code",
   "execution_count": null,
   "metadata": {
    "collapsed": true
   },
   "outputs": [],
   "source": []
  }
 ],
 "metadata": {
  "_draft": {
   "nbviewer_url": "https://gist.github.com/9eb2dda0ea8d643889bf02be9e23f699"
  },
  "gist": {
   "data": {
    "description": "testing/from_ooi_json.ipynb",
    "public": true
   },
   "id": "9eb2dda0ea8d643889bf02be9e23f699"
  },
  "kernelspec": {
   "display_name": "Python 3",
   "language": "python",
   "name": "python3"
  },
  "language_info": {
   "codemirror_mode": {
    "name": "ipython",
    "version": 3
   },
   "file_extension": ".py",
   "mimetype": "text/x-python",
   "name": "python",
   "nbconvert_exporter": "python",
   "pygments_lexer": "ipython3",
   "version": "3.5.3"
  }
 },
 "nbformat": 4,
 "nbformat_minor": 2
}
