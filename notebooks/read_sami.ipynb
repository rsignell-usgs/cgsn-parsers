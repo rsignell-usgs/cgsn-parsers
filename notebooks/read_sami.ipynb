{
 "cells": [
  {
   "cell_type": "markdown",
   "metadata": {},
   "source": [
    "# OOI cgsn-parsers --  SAMI\n",
    "hex example (ph sensor)"
   ]
  },
  {
   "cell_type": "code",
   "execution_count": 1,
   "metadata": {
    "collapsed": false
   },
   "outputs": [],
   "source": [
    "%matplotlib inline\n",
    "import requests\n",
    "import pandas as pd\n",
    "import sys\n",
    "from cgsn_parsers.parsers.parse_phsen import Parser "
   ]
  },
  {
   "cell_type": "code",
   "execution_count": 2,
   "metadata": {
    "collapsed": false,
    "scrolled": true
   },
   "outputs": [],
   "source": [
    "# add cgsn-parsers tools to the path (no package yet)\n",
    "path = os.path.abspath('../')\n",
    "sys.path.append(path)"
   ]
  },
  {
   "cell_type": "code",
   "execution_count": 4,
   "metadata": {
    "collapsed": true
   },
   "outputs": [],
   "source": [
    "#Coastal Endurance - WA Shelf Surface Piercing Profiler Mooring\n",
    "baseurl = \"https://rawdata.oceanobservatories.org/files/CE07SHSM/D00003/cg_data/dcl26/phsen1/\"\n",
    "fname = \"20160926.phsen1.log\""
   ]
  },
  {
   "cell_type": "code",
   "execution_count": 16,
   "metadata": {
    "collapsed": false
   },
   "outputs": [],
   "source": [
    "# Coastal Pioneer - Central Surface Mooring\n",
    "baseurl = \"https://rawdata.oceanobservatories.org/files/CP01CNSM/D00006/cg_data/dcl26/phsen1/\"\n",
    "fname = \"20170116.phsen1.log\""
   ]
  },
  {
   "cell_type": "code",
   "execution_count": 17,
   "metadata": {
    "collapsed": false
   },
   "outputs": [],
   "source": [
    "# initialize the Parser object for METBK\n",
    "phsen = Parser(baseurl + fname)"
   ]
  },
  {
   "cell_type": "code",
   "execution_count": 18,
   "metadata": {
    "collapsed": false
   },
   "outputs": [],
   "source": [
    "r = requests.get(phsen.infile, verify=True) # use verify=False for expired certificate\n",
    "phsen.raw = r.content"
   ]
  },
  {
   "cell_type": "code",
   "execution_count": 19,
   "metadata": {
    "collapsed": false
   },
   "outputs": [
    {
     "data": {
      "text/plain": [
       "(28549, 'E644\\n')"
      ]
     },
     "execution_count": 19,
     "metadata": {},
     "output_type": "execute_result"
    }
   ],
   "source": [
    "len(phsen.raw), phsen.raw[-5:]"
   ]
  },
  {
   "cell_type": "code",
   "execution_count": 20,
   "metadata": {
    "collapsed": false
   },
   "outputs": [],
   "source": [
    "phsen.parse_data()"
   ]
  },
  {
   "cell_type": "code",
   "execution_count": 21,
   "metadata": {
    "collapsed": false
   },
   "outputs": [
    {
     "data": {
      "text/plain": [
       "['thermistor_start',\n",
       " 'record_length',\n",
       " 'light_measurements',\n",
       " 'record_time',\n",
       " 'dcl_date_time_string',\n",
       " 'thermistor_end',\n",
       " 'reference_measurements',\n",
       " 'record_type',\n",
       " 'time',\n",
       " 'voltage_battery']"
      ]
     },
     "execution_count": 21,
     "metadata": {},
     "output_type": "execute_result"
    }
   ],
   "source": [
    "phsen.data.keys()"
   ]
  },
  {
   "cell_type": "code",
   "execution_count": 22,
   "metadata": {
    "collapsed": false
   },
   "outputs": [],
   "source": [
    "df = pd.DataFrame(phsen.data)\n",
    "df['dt_utc'] = pd.to_datetime(df.time, unit='s')\n",
    "df.set_index('dt_utc', drop=True, inplace=True)\n",
    "del df['dcl_date_time_string']"
   ]
  },
  {
   "cell_type": "code",
   "execution_count": 23,
   "metadata": {
    "collapsed": false
   },
   "outputs": [
    {
     "data": {
      "text/html": [
       "<div>\n",
       "<table border=\"1\" class=\"dataframe\">\n",
       "  <thead>\n",
       "    <tr style=\"text-align: right;\">\n",
       "      <th></th>\n",
       "      <th>light_measurements</th>\n",
       "      <th>record_length</th>\n",
       "      <th>record_time</th>\n",
       "      <th>record_type</th>\n",
       "      <th>reference_measurements</th>\n",
       "      <th>thermistor_end</th>\n",
       "      <th>thermistor_start</th>\n",
       "      <th>time</th>\n",
       "      <th>voltage_battery</th>\n",
       "    </tr>\n",
       "    <tr>\n",
       "      <th>dt_utc</th>\n",
       "      <th></th>\n",
       "      <th></th>\n",
       "      <th></th>\n",
       "      <th></th>\n",
       "      <th></th>\n",
       "      <th></th>\n",
       "      <th></th>\n",
       "      <th></th>\n",
       "      <th></th>\n",
       "    </tr>\n",
       "  </thead>\n",
       "  <tbody>\n",
       "  </tbody>\n",
       "</table>\n",
       "</div>"
      ],
      "text/plain": [
       "Empty DataFrame\n",
       "Columns: [light_measurements, record_length, record_time, record_type, reference_measurements, thermistor_end, thermistor_start, time, voltage_battery]\n",
       "Index: []"
      ]
     },
     "execution_count": 23,
     "metadata": {},
     "output_type": "execute_result"
    }
   ],
   "source": [
    "df.head()"
   ]
  },
  {
   "cell_type": "code",
   "execution_count": 24,
   "metadata": {
    "collapsed": false
   },
   "outputs": [
    {
     "data": {
      "text/plain": [
       "((0, 9),\n",
       " Index([u'light_measurements', u'record_length', u'record_time', u'record_type',\n",
       "        u'reference_measurements', u'thermistor_end', u'thermistor_start',\n",
       "        u'time', u'voltage_battery'],\n",
       "       dtype='object'))"
      ]
     },
     "execution_count": 24,
     "metadata": {},
     "output_type": "execute_result"
    }
   ],
   "source": [
    "# Later, can drop time, and maybe dt_utc (not the index)\n",
    "df.shape, df.columns"
   ]
  },
  {
   "cell_type": "code",
   "execution_count": 13,
   "metadata": {
    "collapsed": false
   },
   "outputs": [
    {
     "data": {
      "text/plain": [
       "light_measurements         object\n",
       "record_length               int64\n",
       "record_time                 int64\n",
       "record_type                 int64\n",
       "reference_measurements     object\n",
       "thermistor_end              int64\n",
       "thermistor_start            int64\n",
       "time                      float64\n",
       "voltage_battery             int64\n",
       "dtype: object"
      ]
     },
     "execution_count": 13,
     "metadata": {},
     "output_type": "execute_result"
    }
   ],
   "source": [
    "df.dtypes"
   ]
  },
  {
   "cell_type": "code",
   "execution_count": 14,
   "metadata": {
    "collapsed": false
   },
   "outputs": [],
   "source": [
    "#extract a specific element from each list of light_measurements\n",
    "df['light_0'] = [x[0] for x in df['light_measurements']]\n",
    "df['light_end'] = [x[-1] for x in df['light_measurements']]"
   ]
  },
  {
   "cell_type": "code",
   "execution_count": 15,
   "metadata": {
    "collapsed": false
   },
   "outputs": [
    {
     "data": {
      "image/png": "[encoded data removed]",
      "text/plain": [
       "<matplotlib.figure.Figure at 0x7fce8c761e50>"
      ]
     },
     "metadata": {},
     "output_type": "display_data"
    }
   ],
   "source": [
    "df['light_0'].plot(figsize=(11,5), grid='on');"
   ]
  }
 ],
 "metadata": {
  "gist_id": "fcef1d2b7483159f59907da5830de5e0",
  "kernelspec": {
   "display_name": "Python 2",
   "language": "python",
   "name": "python2"
  },
  "language_info": {
   "codemirror_mode": {
    "name": "ipython",
    "version": 2
   },
   "file_extension": ".py",
   "mimetype": "text/x-python",
   "name": "python",
   "nbconvert_exporter": "python",
   "pygments_lexer": "ipython2",
   "version": "2.7.12"
  }
 },
 "nbformat": 4,
 "nbformat_minor": 0
}
