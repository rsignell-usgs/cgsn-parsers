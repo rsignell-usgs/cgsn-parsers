{
 "cells": [
  {
   "cell_type": "markdown",
   "metadata": {},
   "source": [
    "# OOI cgsn-parsers --  metbk\n",
    "While from this example it appears that much of this machinery could be replaced with a simpler approach using pandas `read_csv` and a mapper definition of columns: variable name, column index, and units string, other raw files are hex or binary"
   ]
  },
  {
   "cell_type": "code",
   "execution_count": 1,
   "metadata": {
    "collapsed": false
   },
   "outputs": [],
   "source": [
    "%matplotlib inline\n",
    "import requests\n",
    "import pandas as pd\n",
    "import os\n",
    "import sys\n",
    "from cgsn_parsers.parsers.parse_metbk import Parser as Parser_metbk"
   ]
  },
  {
   "cell_type": "code",
   "execution_count": 2,
   "metadata": {
    "collapsed": false,
    "scrolled": true
   },
   "outputs": [],
   "source": [
    "# add cgsn-parsers tools to the path (no package yet)\n",
    "path = os.path.abspath('../')\n",
    "sys.path.append(path)"
   ]
  },
  {
   "cell_type": "code",
   "execution_count": 3,
   "metadata": {
    "collapsed": true
   },
   "outputs": [],
   "source": [
    "#Coastal Endurance - WA Shelf Surface Piercing Profiler Mooring\n",
    "baseurl = \"https://rawdata.oceanobservatories.org/files/CE07SHSM/D00003/cg_data/dcl11/metbk/\"\n",
    "fname = \"20160522.metbk.log\""
   ]
  },
  {
   "cell_type": "code",
   "execution_count": 4,
   "metadata": {
    "collapsed": false
   },
   "outputs": [],
   "source": [
    "# Coastal Pioneer - Central Surface Mooring\n",
    "baseurl = \"https://rawdata.oceanobservatories.org/files/CP01CNSM/D00006/cg_data/dcl11/metbk1/\"\n",
    "fname = \"20170112.metbk1.log\""
   ]
  },
  {
   "cell_type": "code",
   "execution_count": 5,
   "metadata": {
    "collapsed": false
   },
   "outputs": [],
   "source": [
    "# initialize the Parser object for METBK\n",
    "metbk = Parser_metbk(baseurl + fname)"
   ]
  },
  {
   "cell_type": "code",
   "execution_count": 6,
   "metadata": {
    "collapsed": false
   },
   "outputs": [],
   "source": [
    "r = requests.get(metbk.infile, verify=True) # use verify=False for expired certificate\n",
    "metbk.raw = r.content.splitlines()"
   ]
  },
  {
   "cell_type": "code",
   "execution_count": 7,
   "metadata": {
    "collapsed": false
   },
   "outputs": [
    {
     "data": {
      "text/plain": [
       "(1440,\n",
       " ['2017/01/12 23:55:21.296 1019.84  80.627  14.806  347.9   15.66  11.852  3.9158    0.4    9.15    2.25  3.9158 12.50',\n",
       "  '2017/01/12 23:56:25.575 1019.43  80.553  14.852  349.2   15.69  11.857  3.9168    0.5    7.89    7.57  3.9168 12.50',\n",
       "  '2017/01/12 23:57:29.900 1019.77  80.980  14.768  349.2   15.69  11.860  3.9173    0.5    8.25    4.53  3.9173 12.50',\n",
       "  '2017/01/12 23:58:34.245 1019.43  81.105  14.799  349.2   15.69  11.847  3.9148    0.4    7.69    4.22  3.9148 12.50',\n",
       "  '2017/01/12 23:59:38.785 1019.36  81.487  14.768  351.1   15.69  11.840  3.9138    0.4    7.56    4.06  3.9138 12.50'])"
      ]
     },
     "execution_count": 7,
     "metadata": {},
     "output_type": "execute_result"
    }
   ],
   "source": [
    "len(metbk.raw), metbk.raw[-5:]"
   ]
  },
  {
   "cell_type": "code",
   "execution_count": 8,
   "metadata": {
    "collapsed": false
   },
   "outputs": [],
   "source": [
    "metbk.parse_data()"
   ]
  },
  {
   "cell_type": "code",
   "execution_count": 9,
   "metadata": {
    "collapsed": false
   },
   "outputs": [
    {
     "data": {
      "text/plain": [
       "['longwave_irradiance',\n",
       " 'eastward_wind_velocity',\n",
       " 'sea_surface_conductivity',\n",
       " 'dcl_date_time_string',\n",
       " 'shortwave_irradiance',\n",
       " 'time',\n",
       " 'northward_wind_velocity',\n",
       " 'precipitation_level',\n",
       " 'relative_humidity',\n",
       " 'air_temperature',\n",
       " 'sea_surface_temperature',\n",
       " 'barometric_pressure']"
      ]
     },
     "execution_count": 9,
     "metadata": {},
     "output_type": "execute_result"
    }
   ],
   "source": [
    "metbk.data.keys()"
   ]
  },
  {
   "cell_type": "code",
   "execution_count": 11,
   "metadata": {
    "collapsed": false
   },
   "outputs": [],
   "source": [
    "df = pd.DataFrame(metbk.data)\n",
    "df['dt_utc'] = pd.to_datetime(df.dcl_date_time_string, utc=True)\n",
    "df.set_index('dt_utc', drop=False, inplace=True)"
   ]
  },
  {
   "cell_type": "code",
   "execution_count": 12,
   "metadata": {
    "collapsed": false
   },
   "outputs": [
    {
     "data": {
      "text/plain": [
       "((1440, 13),\n",
       " Index([u'air_temperature', u'barometric_pressure', u'dcl_date_time_string',\n",
       "        u'eastward_wind_velocity', u'longwave_irradiance',\n",
       "        u'northward_wind_velocity', u'precipitation_level',\n",
       "        u'relative_humidity', u'sea_surface_conductivity',\n",
       "        u'sea_surface_temperature', u'shortwave_irradiance', u'time',\n",
       "        u'dt_utc'],\n",
       "       dtype='object'))"
      ]
     },
     "execution_count": 12,
     "metadata": {},
     "output_type": "execute_result"
    }
   ],
   "source": [
    "# Later, can drop time, dcl_date_time_string, and maybe dt_utc (not the index)\n",
    "df.shape, df.columns"
   ]
  },
  {
   "cell_type": "code",
   "execution_count": 13,
   "metadata": {
    "collapsed": false
   },
   "outputs": [
    {
     "data": {
      "text/plain": [
       "air_temperature                    float64\n",
       "barometric_pressure                float64\n",
       "dcl_date_time_string                object\n",
       "eastward_wind_velocity             float64\n",
       "longwave_irradiance                float64\n",
       "northward_wind_velocity            float64\n",
       "precipitation_level                float64\n",
       "relative_humidity                  float64\n",
       "sea_surface_conductivity           float64\n",
       "sea_surface_temperature            float64\n",
       "shortwave_irradiance               float64\n",
       "time                               float64\n",
       "dt_utc                      datetime64[ns]\n",
       "dtype: object"
      ]
     },
     "execution_count": 13,
     "metadata": {},
     "output_type": "execute_result"
    }
   ],
   "source": [
    "df.dtypes"
   ]
  },
  {
   "cell_type": "code",
   "execution_count": 14,
   "metadata": {
    "collapsed": false
   },
   "outputs": [
    {
     "data": {
      "text/html": [
       "<div>\n",
       "<table border=\"1\" class=\"dataframe\">\n",
       "  <thead>\n",
       "    <tr style=\"text-align: right;\">\n",
       "      <th></th>\n",
       "      <th>air_temperature</th>\n",
       "      <th>barometric_pressure</th>\n",
       "      <th>dcl_date_time_string</th>\n",
       "      <th>eastward_wind_velocity</th>\n",
       "      <th>longwave_irradiance</th>\n",
       "      <th>northward_wind_velocity</th>\n",
       "      <th>precipitation_level</th>\n",
       "      <th>relative_humidity</th>\n",
       "      <th>sea_surface_conductivity</th>\n",
       "      <th>sea_surface_temperature</th>\n",
       "      <th>shortwave_irradiance</th>\n",
       "      <th>time</th>\n",
       "      <th>dt_utc</th>\n",
       "    </tr>\n",
       "    <tr>\n",
       "      <th>dt_utc</th>\n",
       "      <th></th>\n",
       "      <th></th>\n",
       "      <th></th>\n",
       "      <th></th>\n",
       "      <th></th>\n",
       "      <th></th>\n",
       "      <th></th>\n",
       "      <th></th>\n",
       "      <th></th>\n",
       "      <th></th>\n",
       "      <th></th>\n",
       "      <th></th>\n",
       "      <th></th>\n",
       "    </tr>\n",
       "  </thead>\n",
       "  <tbody>\n",
       "    <tr>\n",
       "      <th>2017-01-12 23:50:30.362</th>\n",
       "      <td>14.875</td>\n",
       "      <td>1019.70</td>\n",
       "      <td>2017/01/12 23:50:30.362</td>\n",
       "      <td>8.99</td>\n",
       "      <td>344.7</td>\n",
       "      <td>5.25</td>\n",
       "      <td>15.68</td>\n",
       "      <td>80.250</td>\n",
       "      <td>3.9318</td>\n",
       "      <td>11.952</td>\n",
       "      <td>0.3</td>\n",
       "      <td>1.484265e+09</td>\n",
       "      <td>2017-01-12 23:50:30.362</td>\n",
       "    </tr>\n",
       "    <tr>\n",
       "      <th>2017-01-12 23:51:34.596</th>\n",
       "      <td>14.859</td>\n",
       "      <td>1019.70</td>\n",
       "      <td>2017/01/12 23:51:34.596</td>\n",
       "      <td>7.31</td>\n",
       "      <td>343.8</td>\n",
       "      <td>4.22</td>\n",
       "      <td>15.68</td>\n",
       "      <td>80.715</td>\n",
       "      <td>3.9295</td>\n",
       "      <td>11.937</td>\n",
       "      <td>0.3</td>\n",
       "      <td>1.484265e+09</td>\n",
       "      <td>2017-01-12 23:51:34.596</td>\n",
       "    </tr>\n",
       "    <tr>\n",
       "      <th>2017-01-12 23:52:40.291</th>\n",
       "      <td>14.799</td>\n",
       "      <td>1019.63</td>\n",
       "      <td>2017/01/12 23:52:40.291</td>\n",
       "      <td>8.30</td>\n",
       "      <td>344.4</td>\n",
       "      <td>5.31</td>\n",
       "      <td>15.67</td>\n",
       "      <td>80.943</td>\n",
       "      <td>3.9262</td>\n",
       "      <td>11.920</td>\n",
       "      <td>0.2</td>\n",
       "      <td>1.484265e+09</td>\n",
       "      <td>2017-01-12 23:52:40.291</td>\n",
       "    </tr>\n",
       "    <tr>\n",
       "      <th>2017-01-12 23:53:12.544</th>\n",
       "      <td>14.829</td>\n",
       "      <td>1019.63</td>\n",
       "      <td>2017/01/12 23:53:12.544</td>\n",
       "      <td>9.87</td>\n",
       "      <td>345.3</td>\n",
       "      <td>4.45</td>\n",
       "      <td>15.67</td>\n",
       "      <td>81.032</td>\n",
       "      <td>3.9195</td>\n",
       "      <td>11.880</td>\n",
       "      <td>0.2</td>\n",
       "      <td>1.484265e+09</td>\n",
       "      <td>2017-01-12 23:53:12.544</td>\n",
       "    </tr>\n",
       "    <tr>\n",
       "      <th>2017-01-12 23:54:16.781</th>\n",
       "      <td>14.799</td>\n",
       "      <td>1019.98</td>\n",
       "      <td>2017/01/12 23:54:16.781</td>\n",
       "      <td>10.01</td>\n",
       "      <td>346.8</td>\n",
       "      <td>5.93</td>\n",
       "      <td>15.64</td>\n",
       "      <td>80.987</td>\n",
       "      <td>3.9164</td>\n",
       "      <td>11.858</td>\n",
       "      <td>0.3</td>\n",
       "      <td>1.484265e+09</td>\n",
       "      <td>2017-01-12 23:54:16.781</td>\n",
       "    </tr>\n",
       "    <tr>\n",
       "      <th>2017-01-12 23:55:21.296</th>\n",
       "      <td>14.806</td>\n",
       "      <td>1019.84</td>\n",
       "      <td>2017/01/12 23:55:21.296</td>\n",
       "      <td>9.15</td>\n",
       "      <td>347.9</td>\n",
       "      <td>2.25</td>\n",
       "      <td>15.66</td>\n",
       "      <td>80.627</td>\n",
       "      <td>3.9158</td>\n",
       "      <td>11.852</td>\n",
       "      <td>0.4</td>\n",
       "      <td>1.484265e+09</td>\n",
       "      <td>2017-01-12 23:55:21.296</td>\n",
       "    </tr>\n",
       "    <tr>\n",
       "      <th>2017-01-12 23:56:25.575</th>\n",
       "      <td>14.852</td>\n",
       "      <td>1019.43</td>\n",
       "      <td>2017/01/12 23:56:25.575</td>\n",
       "      <td>7.89</td>\n",
       "      <td>349.2</td>\n",
       "      <td>7.57</td>\n",
       "      <td>15.69</td>\n",
       "      <td>80.553</td>\n",
       "      <td>3.9168</td>\n",
       "      <td>11.857</td>\n",
       "      <td>0.5</td>\n",
       "      <td>1.484265e+09</td>\n",
       "      <td>2017-01-12 23:56:25.575</td>\n",
       "    </tr>\n",
       "    <tr>\n",
       "      <th>2017-01-12 23:57:29.900</th>\n",
       "      <td>14.768</td>\n",
       "      <td>1019.77</td>\n",
       "      <td>2017/01/12 23:57:29.900</td>\n",
       "      <td>8.25</td>\n",
       "      <td>349.2</td>\n",
       "      <td>4.53</td>\n",
       "      <td>15.69</td>\n",
       "      <td>80.980</td>\n",
       "      <td>3.9173</td>\n",
       "      <td>11.860</td>\n",
       "      <td>0.5</td>\n",
       "      <td>1.484265e+09</td>\n",
       "      <td>2017-01-12 23:57:29.900</td>\n",
       "    </tr>\n",
       "    <tr>\n",
       "      <th>2017-01-12 23:58:34.245</th>\n",
       "      <td>14.799</td>\n",
       "      <td>1019.43</td>\n",
       "      <td>2017/01/12 23:58:34.245</td>\n",
       "      <td>7.69</td>\n",
       "      <td>349.2</td>\n",
       "      <td>4.22</td>\n",
       "      <td>15.69</td>\n",
       "      <td>81.105</td>\n",
       "      <td>3.9148</td>\n",
       "      <td>11.847</td>\n",
       "      <td>0.4</td>\n",
       "      <td>1.484266e+09</td>\n",
       "      <td>2017-01-12 23:58:34.245</td>\n",
       "    </tr>\n",
       "    <tr>\n",
       "      <th>2017-01-12 23:59:38.785</th>\n",
       "      <td>14.768</td>\n",
       "      <td>1019.36</td>\n",
       "      <td>2017/01/12 23:59:38.785</td>\n",
       "      <td>7.56</td>\n",
       "      <td>351.1</td>\n",
       "      <td>4.06</td>\n",
       "      <td>15.69</td>\n",
       "      <td>81.487</td>\n",
       "      <td>3.9138</td>\n",
       "      <td>11.840</td>\n",
       "      <td>0.4</td>\n",
       "      <td>1.484266e+09</td>\n",
       "      <td>2017-01-12 23:59:38.785</td>\n",
       "    </tr>\n",
       "  </tbody>\n",
       "</table>\n",
       "</div>"
      ],
      "text/plain": [
       "                         air_temperature  barometric_pressure  \\\n",
       "dt_utc                                                          \n",
       "2017-01-12 23:50:30.362           14.875              1019.70   \n",
       "2017-01-12 23:51:34.596           14.859              1019.70   \n",
       "2017-01-12 23:52:40.291           14.799              1019.63   \n",
       "2017-01-12 23:53:12.544           14.829              1019.63   \n",
       "2017-01-12 23:54:16.781           14.799              1019.98   \n",
       "2017-01-12 23:55:21.296           14.806              1019.84   \n",
       "2017-01-12 23:56:25.575           14.852              1019.43   \n",
       "2017-01-12 23:57:29.900           14.768              1019.77   \n",
       "2017-01-12 23:58:34.245           14.799              1019.43   \n",
       "2017-01-12 23:59:38.785           14.768              1019.36   \n",
       "\n",
       "                            dcl_date_time_string  eastward_wind_velocity  \\\n",
       "dt_utc                                                                     \n",
       "2017-01-12 23:50:30.362  2017/01/12 23:50:30.362                    8.99   \n",
       "2017-01-12 23:51:34.596  2017/01/12 23:51:34.596                    7.31   \n",
       "2017-01-12 23:52:40.291  2017/01/12 23:52:40.291                    8.30   \n",
       "2017-01-12 23:53:12.544  2017/01/12 23:53:12.544                    9.87   \n",
       "2017-01-12 23:54:16.781  2017/01/12 23:54:16.781                   10.01   \n",
       "2017-01-12 23:55:21.296  2017/01/12 23:55:21.296                    9.15   \n",
       "2017-01-12 23:56:25.575  2017/01/12 23:56:25.575                    7.89   \n",
       "2017-01-12 23:57:29.900  2017/01/12 23:57:29.900                    8.25   \n",
       "2017-01-12 23:58:34.245  2017/01/12 23:58:34.245                    7.69   \n",
       "2017-01-12 23:59:38.785  2017/01/12 23:59:38.785                    7.56   \n",
       "\n",
       "                         longwave_irradiance  northward_wind_velocity  \\\n",
       "dt_utc                                                                  \n",
       "2017-01-12 23:50:30.362                344.7                     5.25   \n",
       "2017-01-12 23:51:34.596                343.8                     4.22   \n",
       "2017-01-12 23:52:40.291                344.4                     5.31   \n",
       "2017-01-12 23:53:12.544                345.3                     4.45   \n",
       "2017-01-12 23:54:16.781                346.8                     5.93   \n",
       "2017-01-12 23:55:21.296                347.9                     2.25   \n",
       "2017-01-12 23:56:25.575                349.2                     7.57   \n",
       "2017-01-12 23:57:29.900                349.2                     4.53   \n",
       "2017-01-12 23:58:34.245                349.2                     4.22   \n",
       "2017-01-12 23:59:38.785                351.1                     4.06   \n",
       "\n",
       "                         precipitation_level  relative_humidity  \\\n",
       "dt_utc                                                            \n",
       "2017-01-12 23:50:30.362                15.68             80.250   \n",
       "2017-01-12 23:51:34.596                15.68             80.715   \n",
       "2017-01-12 23:52:40.291                15.67             80.943   \n",
       "2017-01-12 23:53:12.544                15.67             81.032   \n",
       "2017-01-12 23:54:16.781                15.64             80.987   \n",
       "2017-01-12 23:55:21.296                15.66             80.627   \n",
       "2017-01-12 23:56:25.575                15.69             80.553   \n",
       "2017-01-12 23:57:29.900                15.69             80.980   \n",
       "2017-01-12 23:58:34.245                15.69             81.105   \n",
       "2017-01-12 23:59:38.785                15.69             81.487   \n",
       "\n",
       "                         sea_surface_conductivity  sea_surface_temperature  \\\n",
       "dt_utc                                                                       \n",
       "2017-01-12 23:50:30.362                    3.9318                   11.952   \n",
       "2017-01-12 23:51:34.596                    3.9295                   11.937   \n",
       "2017-01-12 23:52:40.291                    3.9262                   11.920   \n",
       "2017-01-12 23:53:12.544                    3.9195                   11.880   \n",
       "2017-01-12 23:54:16.781                    3.9164                   11.858   \n",
       "2017-01-12 23:55:21.296                    3.9158                   11.852   \n",
       "2017-01-12 23:56:25.575                    3.9168                   11.857   \n",
       "2017-01-12 23:57:29.900                    3.9173                   11.860   \n",
       "2017-01-12 23:58:34.245                    3.9148                   11.847   \n",
       "2017-01-12 23:59:38.785                    3.9138                   11.840   \n",
       "\n",
       "                         shortwave_irradiance          time  \\\n",
       "dt_utc                                                        \n",
       "2017-01-12 23:50:30.362                   0.3  1.484265e+09   \n",
       "2017-01-12 23:51:34.596                   0.3  1.484265e+09   \n",
       "2017-01-12 23:52:40.291                   0.2  1.484265e+09   \n",
       "2017-01-12 23:53:12.544                   0.2  1.484265e+09   \n",
       "2017-01-12 23:54:16.781                   0.3  1.484265e+09   \n",
       "2017-01-12 23:55:21.296                   0.4  1.484265e+09   \n",
       "2017-01-12 23:56:25.575                   0.5  1.484265e+09   \n",
       "2017-01-12 23:57:29.900                   0.5  1.484265e+09   \n",
       "2017-01-12 23:58:34.245                   0.4  1.484266e+09   \n",
       "2017-01-12 23:59:38.785                   0.4  1.484266e+09   \n",
       "\n",
       "                                         dt_utc  \n",
       "dt_utc                                           \n",
       "2017-01-12 23:50:30.362 2017-01-12 23:50:30.362  \n",
       "2017-01-12 23:51:34.596 2017-01-12 23:51:34.596  \n",
       "2017-01-12 23:52:40.291 2017-01-12 23:52:40.291  \n",
       "2017-01-12 23:53:12.544 2017-01-12 23:53:12.544  \n",
       "2017-01-12 23:54:16.781 2017-01-12 23:54:16.781  \n",
       "2017-01-12 23:55:21.296 2017-01-12 23:55:21.296  \n",
       "2017-01-12 23:56:25.575 2017-01-12 23:56:25.575  \n",
       "2017-01-12 23:57:29.900 2017-01-12 23:57:29.900  \n",
       "2017-01-12 23:58:34.245 2017-01-12 23:58:34.245  \n",
       "2017-01-12 23:59:38.785 2017-01-12 23:59:38.785  "
      ]
     },
     "execution_count": 14,
     "metadata": {},
     "output_type": "execute_result"
    }
   ],
   "source": [
    "df.tail(10)"
   ]
  },
  {
   "cell_type": "code",
   "execution_count": 15,
   "metadata": {
    "collapsed": false
   },
   "outputs": [
    {
     "data": {
      "image/png": "[encoded data removed]",
      "text/plain": [
       "<matplotlib.figure.Figure at 0x7f0aa4388250>"
      ]
     },
     "metadata": {},
     "output_type": "display_data"
    }
   ],
   "source": [
    "df[['air_temperature', 'sea_surface_temperature']].plot(figsize=(11,5));"
   ]
  },
  {
   "cell_type": "code",
   "execution_count": null,
   "metadata": {
    "collapsed": false
   },
   "outputs": [],
   "source": [
    "df['sea_surface_conductivity'].plot(figsize=(11,5));"
   ]
  },
  {
   "cell_type": "code",
   "execution_count": null,
   "metadata": {
    "collapsed": true
   },
   "outputs": [],
   "source": []
  },
  {
   "cell_type": "code",
   "execution_count": null,
   "metadata": {
    "collapsed": true
   },
   "outputs": [],
   "source": []
  }
 ],
 "metadata": {
  "kernelspec": {
   "display_name": "Python 2",
   "language": "python",
   "name": "python2"
  },
  "language_info": {
   "codemirror_mode": {
    "name": "ipython",
    "version": 2
   },
   "file_extension": ".py",
   "mimetype": "text/x-python",
   "name": "python",
   "nbconvert_exporter": "python",
   "pygments_lexer": "ipython2",
   "version": "2.7.12"
  }
 },
 "nbformat": 4,
 "nbformat_minor": 0
}
